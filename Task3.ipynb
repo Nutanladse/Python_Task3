{
 "cells": [
  {
   "cell_type": "markdown",
   "id": "0585e1cb-7618-4782-909b-c1ef0966b38e",
   "metadata": {},
   "source": [
    "# List Method :-\n",
    "## Lists are used to store multiple items in a single variable.\r\n"
   ]
  },
  {
   "cell_type": "markdown",
   "id": "8657d8cf-ffbc-4960-adeb-69111f17783e",
   "metadata": {},
   "source": [
    "## 1. Adding Elements"
   ]
  },
  {
   "cell_type": "markdown",
   "id": "0f3e9ebf-7f02-40b4-9ac8-5bc35df1af33",
   "metadata": {},
   "source": [
    "### append(item): Adds an item to the end of the list."
   ]
  },
  {
   "cell_type": "code",
   "execution_count": 39,
   "id": "521119f3-4f44-4117-a503-f3def2c23e30",
   "metadata": {},
   "outputs": [
    {
     "name": "stdout",
     "output_type": "stream",
     "text": [
      "[5, 6, 7, 8]\n"
     ]
    }
   ],
   "source": [
    "text = [5, 6, 7]\n",
    "text.append(8)  \n",
    "print(text)"
   ]
  },
  {
   "cell_type": "markdown",
   "id": "a1805d4e-1c79-4987-9e28-5c7607c78036",
   "metadata": {},
   "source": [
    "### extend(iterable): Adds elements from an iterable (like another list) to the end of the list."
   ]
  },
  {
   "cell_type": "code",
   "execution_count": 43,
   "id": "17c767c2-ded5-400e-867f-141badcf81dc",
   "metadata": {},
   "outputs": [
    {
     "name": "stdout",
     "output_type": "stream",
     "text": [
      "[5, 6, 7, 8, 9]\n"
     ]
    }
   ],
   "source": [
    "text = [5, 6, 7]\n",
    "text.extend([8, 9])  \n",
    "print(text)"
   ]
  },
  {
   "cell_type": "markdown",
   "id": "fa8df0c9-bef5-419e-9c27-771d5ae52fff",
   "metadata": {},
   "source": [
    "### insert(index, item): Inserts an item at a specified index."
   ]
  },
  {
   "cell_type": "code",
   "execution_count": 51,
   "id": "0f600914-ffef-430e-879a-31227ac1a663",
   "metadata": {},
   "outputs": [
    {
     "name": "stdout",
     "output_type": "stream",
     "text": [
      "[5, 6, 7, 'a']\n"
     ]
    }
   ],
   "source": [
    "text = [5, 6, 7]\n",
    "text.insert(6,'a') \n",
    "print(text)"
   ]
  },
  {
   "cell_type": "markdown",
   "id": "64a5669a-e52c-409e-9c72-8b7fce4b9e31",
   "metadata": {},
   "source": [
    "## 2. Removing Elements"
   ]
  },
  {
   "cell_type": "markdown",
   "id": "89b24028-3b76-4e69-9748-8bdf2a49ff6e",
   "metadata": {},
   "source": [
    "## remove(item): Removes the first occurrence of an item. Raises a ValueError if not found."
   ]
  },
  {
   "cell_type": "code",
   "execution_count": 57,
   "id": "77d4201b-1be7-4f9f-a042-184069a70d48",
   "metadata": {},
   "outputs": [
    {
     "name": "stdout",
     "output_type": "stream",
     "text": [
      "[5, 7]\n"
     ]
    }
   ],
   "source": [
    "text = [5, 6, 7]\n",
    "text.remove(6)  \n",
    "print(text)"
   ]
  },
  {
   "cell_type": "markdown",
   "id": "74aceb72-27c4-438c-a58d-7eb016577d6d",
   "metadata": {},
   "source": [
    "### pop(index): Removes and returns the item at the specified index. If no index is specified, it removes and returns the last item."
   ]
  },
  {
   "cell_type": "code",
   "execution_count": 62,
   "id": "21949314-9815-45a6-a134-39869b42faa3",
   "metadata": {},
   "outputs": [
    {
     "name": "stdout",
     "output_type": "stream",
     "text": [
      "[5, 6]\n"
     ]
    }
   ],
   "source": [
    "text = [5, 6, 7]\n",
    "text.pop(2)  \n",
    "print(text)"
   ]
  },
  {
   "cell_type": "markdown",
   "id": "6daa73b9-c478-45be-bda7-b478e827ff36",
   "metadata": {},
   "source": [
    "### clear(): Removes all items from the list."
   ]
  },
  {
   "cell_type": "code",
   "execution_count": 65,
   "id": "0db9dcf6-ec8d-498f-8c8d-ebb523406ead",
   "metadata": {},
   "outputs": [
    {
     "name": "stdout",
     "output_type": "stream",
     "text": [
      "[]\n"
     ]
    }
   ],
   "source": [
    "text = [5, 6, 7]\n",
    "text.clear()  \n",
    "print(text)"
   ]
  },
  {
   "cell_type": "markdown",
   "id": "403bd2c6-53ff-4108-adc2-56775124e78b",
   "metadata": {},
   "source": [
    "## 3. Searching and Counting"
   ]
  },
  {
   "cell_type": "markdown",
   "id": "dd827344-cda6-4c43-97b1-39e0f5778b58",
   "metadata": {},
   "source": [
    "### index(item): Returns the index of the first occurrence of an item. Raises a ValueError if not found."
   ]
  },
  {
   "cell_type": "code",
   "execution_count": 90,
   "id": "ba7bd16c-f2cc-465f-8eb9-d73af70e007d",
   "metadata": {},
   "outputs": [
    {
     "name": "stdout",
     "output_type": "stream",
     "text": [
      "[5, 6, 7]\n"
     ]
    }
   ],
   "source": [
    "text = [5, 6, 7]\n",
    "text.index(5)  \n",
    "print(text)"
   ]
  },
  {
   "cell_type": "markdown",
   "id": "7846a5d9-f720-45fc-b6fd-8787ab452895",
   "metadata": {},
   "source": [
    "### count(item): Returns the number of occurrences of an item."
   ]
  },
  {
   "cell_type": "code",
   "execution_count": 94,
   "id": "f353d8b8-2459-4ab6-823c-23f40fd628cf",
   "metadata": {},
   "outputs": [
    {
     "name": "stdout",
     "output_type": "stream",
     "text": [
      "[5, 6, 7, 'b']\n"
     ]
    }
   ],
   "source": [
    "text = [5, 6, 7,'b']\n",
    "text.count(2)  \n",
    "print(text)"
   ]
  },
  {
   "cell_type": "markdown",
   "id": "a9725ec4-d0c1-40ed-9d28-5cf8f33759fa",
   "metadata": {},
   "source": [
    "## 4. Sorting and Reversing"
   ]
  },
  {
   "cell_type": "markdown",
   "id": "8b7acb01-c0d5-4ab9-bbb8-4a94c717a474",
   "metadata": {},
   "source": [
    "### sort(key=None, reverse=False): Sorts the list in place. You can specify a key function for custom sorting and reverse=True for descending order."
   ]
  },
  {
   "cell_type": "code",
   "execution_count": 104,
   "id": "6c52eb77-11cb-4d14-9d9d-b1d3b5f25ac1",
   "metadata": {},
   "outputs": [
    {
     "name": "stdout",
     "output_type": "stream",
     "text": [
      "[4, 6, 7, 7, 9]\n"
     ]
    }
   ],
   "source": [
    "text = [9,6,4,7,7]\n",
    "text.sort()  \n",
    "print(text)"
   ]
  },
  {
   "cell_type": "markdown",
   "id": "85fcd976-bd0d-462b-8ec6-2fb7a2b8371e",
   "metadata": {},
   "source": [
    "### reverse(): Reverses the order of the list in place."
   ]
  },
  {
   "cell_type": "code",
   "execution_count": 107,
   "id": "a121215c-c9fc-4e47-ae85-ddbbf04687d1",
   "metadata": {},
   "outputs": [
    {
     "name": "stdout",
     "output_type": "stream",
     "text": [
      "[7, 7, 4, 6, 9]\n"
     ]
    }
   ],
   "source": [
    "text = [9,6,4,7,7]\n",
    "text.reverse()  \n",
    "print(text)"
   ]
  },
  {
   "cell_type": "markdown",
   "id": "9b0d5665-fd92-41f9-9238-f3554eab3c60",
   "metadata": {},
   "source": [
    "## 5. Copying\n"
   ]
  },
  {
   "cell_type": "markdown",
   "id": "9d365462-ce00-4696-9125-b5d6f3715de3",
   "metadata": {},
   "source": [
    "### copy(): Returns a shallow copy of the list.\n"
   ]
  },
  {
   "cell_type": "code",
   "execution_count": 111,
   "id": "c20dbf60-7585-4c6b-af65-aa855b9ec89a",
   "metadata": {},
   "outputs": [
    {
     "name": "stdout",
     "output_type": "stream",
     "text": [
      "[9, 6, 4, 7, 7]\n"
     ]
    }
   ],
   "source": [
    "text = [9,6,4,7,7]\n",
    "text.copy()  \n",
    "print(text)"
   ]
  },
  {
   "cell_type": "markdown",
   "id": "76c6f9d9-27ec-4415-a443-af15ca775fe6",
   "metadata": {},
   "source": [
    "## Dictionary Method:-"
   ]
  },
  {
   "cell_type": "markdown",
   "id": "cf6e8e18-2c53-4028-b352-5ee107fbb313",
   "metadata": {},
   "source": [
    "### In Python, dictionaries are key-value pairs and come with several built-in methods that make them versatile and easy to use. Here’s an overview of some commonly used dictionary methods."
   ]
  },
  {
   "cell_type": "markdown",
   "id": "4c302821-9a03-4185-97bf-47dac09fea3c",
   "metadata": {},
   "source": [
    "## 1. Accessing Values"
   ]
  },
  {
   "cell_type": "markdown",
   "id": "189e33b0-17d8-478f-812c-3d993a424a04",
   "metadata": {},
   "source": [
    "### get(key, default=None): Returns the value for the specified key. If the key does not exist, it returns default (which is None if not provided).\n"
   ]
  },
  {
   "cell_type": "code",
   "execution_count": 126,
   "id": "9b82afd2-60c9-4a46-9823-ca512132662c",
   "metadata": {},
   "outputs": [
    {
     "name": "stdout",
     "output_type": "stream",
     "text": [
      "{'a': 1, 'b': 2}\n"
     ]
    }
   ],
   "source": [
    "text = {'a': 1, 'b': 2}\n",
    "value = text.get('b')  \n",
    "value = text.get('c', 0)\n",
    "print(text)\n"
   ]
  },
  {
   "cell_type": "markdown",
   "id": "65b03a4e-977b-4e32-977b-b67a5db480a0",
   "metadata": {},
   "source": [
    "### 2. Adding and Updating"
   ]
  },
  {
   "cell_type": "markdown",
   "id": "d25b5b3e-65bd-4002-a8cf-64f57f6a70b4",
   "metadata": {},
   "source": [
    "### setdefault(key, default=None): Returns the value of the key if it is in the dictionary. If not, it inserts the key with the specified default value and returns that value."
   ]
  },
  {
   "cell_type": "code",
   "execution_count": 137,
   "id": "a9ac7f95-7a0b-4cd6-b7d8-dca8d570687a",
   "metadata": {},
   "outputs": [
    {
     "name": "stdout",
     "output_type": "stream",
     "text": [
      "{'a': 1, 'b': 5, 'c': 3, 'd': 4}\n"
     ]
    }
   ],
   "source": [
    "text.setdefault('c', 3) \n",
    "print(text)\n"
   ]
  },
  {
   "cell_type": "markdown",
   "id": "09eb4cf9-d805-4449-82a5-17b88c4c1fc5",
   "metadata": {},
   "source": [
    "### update(other_dict): Updates the dictionary with key-value pairs from another dictionary or an iterable of key-value pairs.\n"
   ]
  },
  {
   "cell_type": "code",
   "execution_count": 13,
   "id": "fdc5d320-da81-4b11-9635-97e90f563e63",
   "metadata": {},
   "outputs": [
    {
     "name": "stdout",
     "output_type": "stream",
     "text": [
      "{'name': 'Nita', 'gender': 'female', 'age': 19, 'full_name': 'Nita_Sharama'}\n"
     ]
    }
   ],
   "source": [
    "info = {\n",
    "  \"name\": \"Nita\",\n",
    "  \"gender\": \"female\",\n",
    "  \"age\": 19\n",
    "}\n",
    "\n",
    "x = info.update({\"full_name\":\"Nita_Sharama\"})\n",
    "\n",
    "print(info)"
   ]
  },
  {
   "cell_type": "markdown",
   "id": "44bf61eb-32eb-42e2-a0c6-558dec534fea",
   "metadata": {},
   "source": [
    "### 3. Removing Elements"
   ]
  },
  {
   "cell_type": "markdown",
   "id": "6ab6e035-1566-42a1-b1ed-d1e49df2d82a",
   "metadata": {},
   "source": [
    "### pop(key, default=None): Removes the specified key and returns its value. If the key is not found, it returns default (or raises a KeyError if default is not provided).\n"
   ]
  },
  {
   "cell_type": "code",
   "execution_count": 9,
   "id": "eba553e4-6d74-4d7e-8c21-36d3c2c86c41",
   "metadata": {},
   "outputs": [
    {
     "name": "stdout",
     "output_type": "stream",
     "text": [
      "19\n"
     ]
    }
   ],
   "source": [
    "info = {\n",
    "  \"name\": \"Nita\",\n",
    "  \"gender\": \"female\",\n",
    "  \"age\": 19\n",
    "}\n",
    "\n",
    "x = info.pop(\"age\")\n",
    "\n",
    "print(x)"
   ]
  },
  {
   "cell_type": "markdown",
   "id": "80317a14-d4d1-4965-87e0-03dd6dcd734c",
   "metadata": {},
   "source": [
    "### clear:Removes all the elements from the dictionary\n"
   ]
  },
  {
   "cell_type": "code",
   "execution_count": 17,
   "id": "ead5299e-cf99-484f-83c9-085a00ea4f51",
   "metadata": {},
   "outputs": [
    {
     "name": "stdout",
     "output_type": "stream",
     "text": [
      "{}\n"
     ]
    }
   ],
   "source": [
    "info = {\n",
    "  \"name\": \"Nita\",\n",
    "  \"gender\": \"female\",\n",
    "  \"age\": 19\n",
    "}\n",
    "\n",
    "x = info.clear()\n",
    "\n",
    "print(info)"
   ]
  },
  {
   "cell_type": "markdown",
   "id": "459cc348-1566-4116-8fb7-26d55b136fb1",
   "metadata": {},
   "source": [
    "### pop item() : Removes the last inserted key-value pair"
   ]
  },
  {
   "cell_type": "code",
   "execution_count": 10,
   "id": "07e197e0-a107-4d61-891c-44a6935e5c79",
   "metadata": {},
   "outputs": [
    {
     "name": "stdout",
     "output_type": "stream",
     "text": [
      "('age', 19)\n"
     ]
    }
   ],
   "source": [
    "info = {\n",
    "  \"name\": \"Nita\",\n",
    "  \"gender\": \"female\",\n",
    "  \"age\": 19\n",
    "}\n",
    "\n",
    "x = info.popitem()\n",
    "\n",
    "print(x)"
   ]
  },
  {
   "cell_type": "markdown",
   "id": "e82362df-9a80-492e-9294-f87a0f0fb73e",
   "metadata": {},
   "source": [
    "### 4. Copy() : Returns a copy of the dictionary"
   ]
  },
  {
   "cell_type": "code",
   "execution_count": 3,
   "id": "d5691c6c-14f6-4684-82e7-b8b9d7d0e7ab",
   "metadata": {},
   "outputs": [
    {
     "name": "stdout",
     "output_type": "stream",
     "text": [
      "{'name': 'Nita', 'gender': 'female', 'age': 19}\n"
     ]
    }
   ],
   "source": [
    "info = {\n",
    "  \"name\": \"Nita\",\n",
    "  \"gender\": \"female\",\n",
    "  \"age\": 19\n",
    "}\n",
    "\n",
    "x = info.copy()\n",
    "\n",
    "print(info)"
   ]
  },
  {
   "cell_type": "markdown",
   "id": "869fff0e-eda4-438d-a029-95abb98e0928",
   "metadata": {},
   "source": [
    "### 5. Keys : Returns a list containing the dictionary's keys"
   ]
  },
  {
   "cell_type": "code",
   "execution_count": 14,
   "id": "b39a546d-a6f5-4033-9855-4a7a460148b4",
   "metadata": {},
   "outputs": [
    {
     "name": "stdout",
     "output_type": "stream",
     "text": [
      "dict_keys(['name', 'gender', 'age'])\n"
     ]
    }
   ],
   "source": [
    "info = {\n",
    "  \"name\": \"Nita\",\n",
    "  \"gender\": \"female\",\n",
    "  \"age\": 19\n",
    "}\n",
    "\n",
    "x = info.keys()\n",
    "\n",
    "print(x)"
   ]
  }
 ],
 "metadata": {
  "kernelspec": {
   "display_name": "Python 3 (ipykernel)",
   "language": "python",
   "name": "python3"
  },
  "language_info": {
   "codemirror_mode": {
    "name": "ipython",
    "version": 3
   },
   "file_extension": ".py",
   "mimetype": "text/x-python",
   "name": "python",
   "nbconvert_exporter": "python",
   "pygments_lexer": "ipython3",
   "version": "3.12.4"
  }
 },
 "nbformat": 4,
 "nbformat_minor": 5
}
